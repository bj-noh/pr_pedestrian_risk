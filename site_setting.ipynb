{
 "cells": [
  {
   "cell_type": "code",
   "execution_count": 1,
   "metadata": {},
   "outputs": [],
   "source": [
    "import cv2\n",
    "import os\n",
    "import glob\n",
    "import numpy as np"
   ]
  },
  {
   "cell_type": "code",
   "execution_count": 2,
   "metadata": {},
   "outputs": [],
   "source": [
    "origin_points_dict = {'A': [(615, 77), (911, 67), (2075, 1035), (13, 1307)],\n",
    "                      'B': [(109, 961), (721, 173), (1177, 171), (2371, 907)],\n",
    "                      'C': [(), (), (), ()],\n",
    "                      'D': [(0, 437), (597, 45), (917, 83), (881, 731)],\n",
    "                      'E': [(155, 873), (249, 85), (635, 67), (1501, 595)],\n",
    "                      'F': [(), (), (), ()],\n",
    "                      'G': [(59, 587), (325, 115), (713, 109), (1257, 477)],\n",
    "                      'H': [(183, 589), (7, 179), (403, 101), (1141, 307)],\n",
    "                      'I': [(213, 1309), (5, 127), (639, 49), (2161, 557)]\n",
    "                    }\n",
    "\n",
    "base_points = [(0, 0),\n",
    "              (1000, 0),\n",
    "              (1000, 2000),\n",
    "              (0, 2000)]\n",
    "\n"
   ]
  },
  {
   "cell_type": "code",
   "execution_count": 3,
   "metadata": {},
   "outputs": [],
   "source": [
    "M_dict = dict()\n",
    "\n",
    "for spot in origin_points_dict:\n",
    "    if spot == 'C' or spot == 'F':\n",
    "        continue\n",
    "    \n",
    "    M = cv2.getPerspectiveTransform(np.array(origin_points_dict[spot], dtype='float32'), np.array(base_points, dtype='float32'))\n",
    "    M_dict[spot] = M"
   ]
  },
  {
   "cell_type": "code",
   "execution_count": 5,
   "metadata": {},
   "outputs": [
    {
     "data": {
      "text/plain": [
       "{'A': array([[ 6.55913991e+00,  3.21024571e+00, -4.28105997e+03],\n",
       "        [ 8.48632963e-01,  2.51195357e+01, -2.45611352e+03],\n",
       "        [ 1.99741452e-04,  1.08572910e-02,  1.00000000e+00]]),\n",
       " 'B': array([[-3.14108128e-01, -1.31576405e+01,  1.26787303e+04],\n",
       "        [ 4.42695193e+01,  3.43819110e+01, -3.78663940e+04],\n",
       "        [-2.33392924e-05,  5.31376541e-02,  1.00000000e+00]]),\n",
       " 'D': array([[ 6.30676404e-01, -1.88988405e+00,  8.25879332e+02],\n",
       "        [ 6.60195905e+00,  1.00545142e+01, -4.39382269e+03],\n",
       "        [-1.67849471e-04,  4.83454436e-03,  1.00000000e+00]]),\n",
       " 'E': array([[-4.18022291e-01, -2.02394965e+00,  1.83170150e+03],\n",
       "        [ 7.45417385e+00,  8.89203479e-01, -1.93167158e+03],\n",
       "        [-1.65788970e-05,  6.58478091e-03,  1.00000000e+00]]),\n",
       " 'G': array([[-4.61894688e-01, -5.03045306e+00,  2.98012773e+03],\n",
       "        [ 1.09327900e+01,  6.16127573e+00, -4.26170346e+03],\n",
       "        [-2.06778382e-04,  1.14670681e-02,  1.00000000e+00]]),\n",
       " 'H': array([[-3.03563907e+00, -1.03125611e+01,  6.62962044e+03],\n",
       "        [ 2.03253212e+01, -8.72501593e+00,  1.41950060e+03],\n",
       "        [ 3.11178350e-03,  2.08974304e-02,  1.00000000e+00]]),\n",
       " 'I': array([[-5.17912084e-01, -1.34161268e+00,  1.86648628e+03],\n",
       "        [ 4.53834395e+00, -7.98625671e-01,  7.87337404e+01],\n",
       "        [ 3.17430895e-04,  5.44822639e-03,  1.00000000e+00]])}"
      ]
     },
     "execution_count": 5,
     "metadata": {},
     "output_type": "execute_result"
    }
   ],
   "source": [
    "M_dict\n"
   ]
  },
  {
   "cell_type": "code",
   "execution_count": 6,
   "metadata": {},
   "outputs": [
    {
     "name": "stdout",
     "output_type": "stream",
     "text": [
      "Data has been written to 'perspective_matrix.json' in JSON format.\n"
     ]
    }
   ],
   "source": [
    "import json\n",
    "# Convert the NumPy arrays to regular Python lists in the dictionary\n",
    "for key, value in M_dict.items():\n",
    "    M_dict[key] = value.tolist()\n",
    "\n",
    "# Write the dictionary to a JSON file\n",
    "output_file = 'perspective_matrix.json'\n",
    "with open(output_file, 'w') as json_file:\n",
    "    json.dump(M_dict, json_file, indent=4)\n",
    "\n",
    "print(f\"Data has been written to '{output_file}' in JSON format.\")\n"
   ]
  },
  {
   "cell_type": "code",
   "execution_count": null,
   "metadata": {},
   "outputs": [],
   "source": []
  }
 ],
 "metadata": {
  "kernelspec": {
   "display_name": "bj",
   "language": "python",
   "name": "python3"
  },
  "language_info": {
   "codemirror_mode": {
    "name": "ipython",
    "version": 3
   },
   "file_extension": ".py",
   "mimetype": "text/x-python",
   "name": "python",
   "nbconvert_exporter": "python",
   "pygments_lexer": "ipython3",
   "version": "3.8.11"
  },
  "orig_nbformat": 4
 },
 "nbformat": 4,
 "nbformat_minor": 2
}
